{
 "cells": [
  {
   "cell_type": "code",
   "execution_count": 9,
   "metadata": {
    "collapsed": true
   },
   "outputs": [],
   "source": [
    "from dataProcessing import *\n",
    "%matplotlib inline"
   ]
  },
  {
   "cell_type": "code",
   "execution_count": 6,
   "metadata": {},
   "outputs": [
    {
     "name": "stdout",
     "output_type": "stream",
     "text": [
      "# mules for both months: 28261\n"
     ]
    }
   ],
   "source": [
    "madd23 = []\n",
    "mid_madds = []\n",
    "for m in [2, 3]:\n",
    "    month_dpath = get_base_dpath(m)\n",
    "    muleID_fpath = opath.join(month_dpath, '_muleID-M%d.pkl' % m)\n",
    "    with open(muleID_fpath, 'rb') as fp:\n",
    "        madd_mid, mid_madd = pickle.load(fp)\n",
    "        madd23.append(set(madd_mid.keys()))\n",
    "        mid_madds.append(mid_madd)\n",
    "madd2, madd3 = madd23\n",
    "madd_intersection = madd2.intersection(madd3)\n",
    "print(\"# mules for both months: %d\" % len(madd_intersection))"
   ]
  },
  {
   "cell_type": "code",
   "execution_count": 10,
   "metadata": {},
   "outputs": [
    {
     "data": {
      "text/plain": [
       "<matplotlib.axes._subplots.AxesSubplot at 0x118b4f6a0>"
      ]
     },
     "execution_count": 10,
     "metadata": {},
     "output_type": "execute_result"
    },
    {
     "data": {
      "image/png": "[encoded data removed]",
      "text/plain": [
       "<matplotlib.figure.Figure at 0x118babba8>"
      ]
     },
     "metadata": {},
     "output_type": "display_data"
    }
   ],
   "source": [
    "month = 2\n",
    "df = pd.read_csv(opath.join(get_base_dpath(month), 'M2-aggIndiDur.csv'))\n",
    "df = df.groupby(['mid', 'day']).sum()['duration'].reset_index()\n",
    "df = df.groupby(['mid']).count()['day'].to_frame('days').reset_index()\n",
    "df['days'].hist()\n"
   ]
  },
  {
   "cell_type": "code",
   "execution_count": 11,
   "metadata": {},
   "outputs": [
    {
     "name": "stdout",
     "output_type": "stream",
     "text": [
      "# of active mules: 7951\n"
     ]
    },
    {
     "data": {
      "text/plain": [
       "<matplotlib.axes._subplots.AxesSubplot at 0x1189175c0>"
      ]
     },
     "execution_count": 11,
     "metadata": {},
     "output_type": "execute_result"
    },
    {
     "data": {
      "image/png": "[encoded data removed]",
      "text/plain": [
       "<matplotlib.figure.Figure at 0x118bab5f8>"
      ]
     },
     "metadata": {},
     "output_type": "display_data"
    }
   ],
   "source": [
    "df = df[(df['days'] > LEAST_DAYS)]\n",
    "active_mids = set(df['mid'])\n",
    "print('# of active mules: %d' % len(active_mids))\n",
    "df['days'].hist()"
   ]
  },
  {
   "cell_type": "code",
   "execution_count": null,
   "metadata": {
    "collapsed": true
   },
   "outputs": [],
   "source": []
  }
 ],
 "metadata": {
  "kernelspec": {
   "display_name": "Python 3",
   "language": "python",
   "name": "python3"
  },
  "language_info": {
   "codemirror_mode": {
    "name": "ipython",
    "version": 3
   },
   "file_extension": ".py",
   "mimetype": "text/x-python",
   "name": "python",
   "nbconvert_exporter": "python",
   "pygments_lexer": "ipython3",
   "version": "3.6.4"
  }
 },
 "nbformat": 4,
 "nbformat_minor": 1
}
